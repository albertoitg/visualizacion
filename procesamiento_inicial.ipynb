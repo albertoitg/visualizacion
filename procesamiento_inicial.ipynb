{
 "cells": [
  {
   "cell_type": "code",
   "execution_count": 2,
   "id": "9770687f",
   "metadata": {},
   "outputs": [],
   "source": [
    "import pandas as pd"
   ]
  },
  {
   "cell_type": "code",
   "execution_count": 33,
   "id": "076f416f",
   "metadata": {},
   "outputs": [
    {
     "name": "stdout",
     "output_type": "stream",
     "text": [
      "Cargando 2007\n",
      "Cargando 2008\n"
     ]
    },
    {
     "name": "stderr",
     "output_type": "stream",
     "text": [
      "C:\\Users\\bet0x\\AppData\\Local\\Temp\\ipykernel_24592\\1115120851.py:8: DtypeWarning: Columns (47) have mixed types. Specify dtype option on import or set low_memory=False.\n",
      "  temp = pd.read_csv(\"data/20230802_Matrícula_Ed_Superior_{0}_PUBL_MRUN.csv\".format(year), delimiter=\";\")\n"
     ]
    },
    {
     "name": "stdout",
     "output_type": "stream",
     "text": [
      "Cargando 2009\n",
      "Cargando 2010\n",
      "Cargando 2011\n",
      "Cargando 2012\n",
      "Cargando 2013\n",
      "Cargando 2014\n",
      "Cargando 2015\n",
      "Cargando 2016\n",
      "Cargando 2017\n"
     ]
    },
    {
     "name": "stderr",
     "output_type": "stream",
     "text": [
      "C:\\Users\\bet0x\\AppData\\Local\\Temp\\ipykernel_24592\\1115120851.py:8: DtypeWarning: Columns (49) have mixed types. Specify dtype option on import or set low_memory=False.\n",
      "  temp = pd.read_csv(\"data/20230802_Matrícula_Ed_Superior_{0}_PUBL_MRUN.csv\".format(year), delimiter=\";\")\n"
     ]
    },
    {
     "name": "stdout",
     "output_type": "stream",
     "text": [
      "Cargando 2018\n",
      "Cargando 2019\n",
      "Cargando 2020\n",
      "Cargando 2021\n",
      "Cargando 2022\n",
      "Cargando 2023\n"
     ]
    },
    {
     "name": "stderr",
     "output_type": "stream",
     "text": [
      "C:\\Users\\bet0x\\AppData\\Local\\Temp\\ipykernel_24592\\1115120851.py:8: DtypeWarning: Columns (49,50) have mixed types. Specify dtype option on import or set low_memory=False.\n",
      "  temp = pd.read_csv(\"data/20230802_Matrícula_Ed_Superior_{0}_PUBL_MRUN.csv\".format(year), delimiter=\";\")\n"
     ]
    },
    {
     "name": "stdout",
     "output_type": "stream",
     "text": [
      "Cargando 2024\n"
     ]
    },
    {
     "name": "stderr",
     "output_type": "stream",
     "text": [
      "C:\\Users\\bet0x\\AppData\\Local\\Temp\\ipykernel_24592\\1115120851.py:8: DtypeWarning: Columns (49) have mixed types. Specify dtype option on import or set low_memory=False.\n",
      "  temp = pd.read_csv(\"data/20230802_Matrícula_Ed_Superior_{0}_PUBL_MRUN.csv\".format(year), delimiter=\";\")\n"
     ]
    },
    {
     "data": {
      "text/plain": [
       "array([2007, 2008, 2009, 2010, 2011, 2012, 2013, 2014, 2015, 2016, 2017,\n",
       "       2018, 2019, 2020, 2021, 2022, 2023, 2024])"
      ]
     },
     "execution_count": 33,
     "metadata": {},
     "output_type": "execute_result"
    }
   ],
   "source": [
    "matricula = None\n",
    "\n",
    "for year in range(2007,2025):\n",
    "    print(\"Cargando {0}\".format(year))\n",
    "    if year == 2007:\n",
    "        matricula = pd.read_csv(\"data/20230802_Matrícula_Ed_Superior_{0}_PUBL_MRUN.csv\".format(year), delimiter=\";\")\n",
    "    else:\n",
    "        temp = pd.read_csv(\"data/20230802_Matrícula_Ed_Superior_{0}_PUBL_MRUN.csv\".format(year), delimiter=\";\")\n",
    "        matricula = pd.concat([matricula, temp])\n",
    "    \n",
    "\n",
    "matricula[\"cat_periodo\"].unique()"
   ]
  },
  {
   "cell_type": "code",
   "execution_count": null,
   "id": "d0095d42",
   "metadata": {},
   "outputs": [],
   "source": [
    "#20867358\n",
    "list(matricula.columns)\n",
    "new_matricula = matricula[[\"cat_periodo\", \"mrun\", \"gen_alu\", \"ANIO_ING_CARR_ORI\".lower(), \"ANIO_ING_CARR_ACT\".lower(), \n",
    "                           \"TIPO_INST_2\".lower(), \"NOMB_INST\".lower(), \"NOMB_CARRERA\".lower(), \"DUR_TOTAL_CARR\".lower(), \"COMUNA_SEDE\".lower() ]]\n",
    "\n",
    "#new_matricula.to_csv(\"data/matricula_historica.csv\")\n",
    "\n"
   ]
  },
  {
   "cell_type": "code",
   "execution_count": 84,
   "id": "99be85bf",
   "metadata": {},
   "outputs": [
    {
     "data": {
      "text/plain": [
       "(20867358, 10)"
      ]
     },
     "execution_count": 84,
     "metadata": {},
     "output_type": "execute_result"
    }
   ],
   "source": [
    "new_matricula.shape"
   ]
  },
  {
   "cell_type": "code",
   "execution_count": 57,
   "id": "2973d0eb",
   "metadata": {},
   "outputs": [
    {
     "name": "stdout",
     "output_type": "stream",
     "text": [
      "2007\n"
     ]
    },
    {
     "name": "stderr",
     "output_type": "stream",
     "text": [
      "C:\\Users\\bet0x\\AppData\\Local\\Temp\\ipykernel_24592\\4172935257.py:8: DtypeWarning: Columns (3,5,6,8,12,13,14) have mixed types. Specify dtype option on import or set low_memory=False.\n",
      "  egresados = pd.read_csv(\"data/egreso_media/20230313_Notas_y_Egresados_Enseñanza_Media_{0}_PUBL.csv\".format(x), delimiter=\";\")\n"
     ]
    },
    {
     "name": "stdout",
     "output_type": "stream",
     "text": [
      "2008\n"
     ]
    },
    {
     "name": "stderr",
     "output_type": "stream",
     "text": [
      "C:\\Users\\bet0x\\AppData\\Local\\Temp\\ipykernel_24592\\4172935257.py:8: DtypeWarning: Columns (3,5,6,8,12,13,14) have mixed types. Specify dtype option on import or set low_memory=False.\n",
      "  egresados = pd.read_csv(\"data/egreso_media/20230313_Notas_y_Egresados_Enseñanza_Media_{0}_PUBL.csv\".format(x), delimiter=\";\")\n"
     ]
    },
    {
     "name": "stdout",
     "output_type": "stream",
     "text": [
      "2009\n"
     ]
    },
    {
     "name": "stderr",
     "output_type": "stream",
     "text": [
      "C:\\Users\\bet0x\\AppData\\Local\\Temp\\ipykernel_24592\\4172935257.py:8: DtypeWarning: Columns (3,5,6,8,12,13,14) have mixed types. Specify dtype option on import or set low_memory=False.\n",
      "  egresados = pd.read_csv(\"data/egreso_media/20230313_Notas_y_Egresados_Enseñanza_Media_{0}_PUBL.csv\".format(x), delimiter=\";\")\n"
     ]
    },
    {
     "name": "stdout",
     "output_type": "stream",
     "text": [
      "2010\n"
     ]
    },
    {
     "name": "stderr",
     "output_type": "stream",
     "text": [
      "C:\\Users\\bet0x\\AppData\\Local\\Temp\\ipykernel_24592\\4172935257.py:8: DtypeWarning: Columns (3,5,6,8,12,13,14) have mixed types. Specify dtype option on import or set low_memory=False.\n",
      "  egresados = pd.read_csv(\"data/egreso_media/20230313_Notas_y_Egresados_Enseñanza_Media_{0}_PUBL.csv\".format(x), delimiter=\";\")\n"
     ]
    },
    {
     "name": "stdout",
     "output_type": "stream",
     "text": [
      "2011\n"
     ]
    },
    {
     "name": "stderr",
     "output_type": "stream",
     "text": [
      "C:\\Users\\bet0x\\AppData\\Local\\Temp\\ipykernel_24592\\4172935257.py:6: DtypeWarning: Columns (3,5,6,8,12,13,14) have mixed types. Specify dtype option on import or set low_memory=False.\n",
      "  egresados = pd.read_csv(\"data/egreso_media/20230313_Notas_y_Egresados_Enseñanza_Media_{0}_PUBL.csv\".format(x), delimiter=\",\")\n"
     ]
    },
    {
     "name": "stdout",
     "output_type": "stream",
     "text": [
      "2012\n"
     ]
    },
    {
     "name": "stderr",
     "output_type": "stream",
     "text": [
      "C:\\Users\\bet0x\\AppData\\Local\\Temp\\ipykernel_24592\\4172935257.py:8: DtypeWarning: Columns (3,5,6,8,12,13,14) have mixed types. Specify dtype option on import or set low_memory=False.\n",
      "  egresados = pd.read_csv(\"data/egreso_media/20230313_Notas_y_Egresados_Enseñanza_Media_{0}_PUBL.csv\".format(x), delimiter=\";\")\n"
     ]
    },
    {
     "name": "stdout",
     "output_type": "stream",
     "text": [
      "2013\n"
     ]
    },
    {
     "name": "stderr",
     "output_type": "stream",
     "text": [
      "C:\\Users\\bet0x\\AppData\\Local\\Temp\\ipykernel_24592\\4172935257.py:8: DtypeWarning: Columns (3,5,6,8,12,13,14) have mixed types. Specify dtype option on import or set low_memory=False.\n",
      "  egresados = pd.read_csv(\"data/egreso_media/20230313_Notas_y_Egresados_Enseñanza_Media_{0}_PUBL.csv\".format(x), delimiter=\";\")\n"
     ]
    },
    {
     "name": "stdout",
     "output_type": "stream",
     "text": [
      "2014\n"
     ]
    },
    {
     "name": "stderr",
     "output_type": "stream",
     "text": [
      "C:\\Users\\bet0x\\AppData\\Local\\Temp\\ipykernel_24592\\4172935257.py:8: DtypeWarning: Columns (3,5,6,8,12,13,14) have mixed types. Specify dtype option on import or set low_memory=False.\n",
      "  egresados = pd.read_csv(\"data/egreso_media/20230313_Notas_y_Egresados_Enseñanza_Media_{0}_PUBL.csv\".format(x), delimiter=\";\")\n"
     ]
    },
    {
     "name": "stdout",
     "output_type": "stream",
     "text": [
      "2015\n"
     ]
    },
    {
     "name": "stderr",
     "output_type": "stream",
     "text": [
      "C:\\Users\\bet0x\\AppData\\Local\\Temp\\ipykernel_24592\\4172935257.py:8: DtypeWarning: Columns (3,5,6,8,12,13,14) have mixed types. Specify dtype option on import or set low_memory=False.\n",
      "  egresados = pd.read_csv(\"data/egreso_media/20230313_Notas_y_Egresados_Enseñanza_Media_{0}_PUBL.csv\".format(x), delimiter=\";\")\n"
     ]
    },
    {
     "name": "stdout",
     "output_type": "stream",
     "text": [
      "2016\n"
     ]
    },
    {
     "name": "stderr",
     "output_type": "stream",
     "text": [
      "C:\\Users\\bet0x\\AppData\\Local\\Temp\\ipykernel_24592\\4172935257.py:8: DtypeWarning: Columns (3,5,6,8,12,13,14) have mixed types. Specify dtype option on import or set low_memory=False.\n",
      "  egresados = pd.read_csv(\"data/egreso_media/20230313_Notas_y_Egresados_Enseñanza_Media_{0}_PUBL.csv\".format(x), delimiter=\";\")\n"
     ]
    },
    {
     "name": "stdout",
     "output_type": "stream",
     "text": [
      "2017\n"
     ]
    },
    {
     "name": "stderr",
     "output_type": "stream",
     "text": [
      "C:\\Users\\bet0x\\AppData\\Local\\Temp\\ipykernel_24592\\4172935257.py:8: DtypeWarning: Columns (3,5,6,8,12,13,14) have mixed types. Specify dtype option on import or set low_memory=False.\n",
      "  egresados = pd.read_csv(\"data/egreso_media/20230313_Notas_y_Egresados_Enseñanza_Media_{0}_PUBL.csv\".format(x), delimiter=\";\")\n"
     ]
    },
    {
     "name": "stdout",
     "output_type": "stream",
     "text": [
      "2018\n"
     ]
    },
    {
     "name": "stderr",
     "output_type": "stream",
     "text": [
      "C:\\Users\\bet0x\\AppData\\Local\\Temp\\ipykernel_24592\\4172935257.py:8: DtypeWarning: Columns (3,5,6,8,12,13,14) have mixed types. Specify dtype option on import or set low_memory=False.\n",
      "  egresados = pd.read_csv(\"data/egreso_media/20230313_Notas_y_Egresados_Enseñanza_Media_{0}_PUBL.csv\".format(x), delimiter=\";\")\n"
     ]
    },
    {
     "name": "stdout",
     "output_type": "stream",
     "text": [
      "2019\n"
     ]
    },
    {
     "name": "stderr",
     "output_type": "stream",
     "text": [
      "C:\\Users\\bet0x\\AppData\\Local\\Temp\\ipykernel_24592\\4172935257.py:8: DtypeWarning: Columns (3,5,6,8,12,13,14) have mixed types. Specify dtype option on import or set low_memory=False.\n",
      "  egresados = pd.read_csv(\"data/egreso_media/20230313_Notas_y_Egresados_Enseñanza_Media_{0}_PUBL.csv\".format(x), delimiter=\";\")\n"
     ]
    },
    {
     "name": "stdout",
     "output_type": "stream",
     "text": [
      "2020\n"
     ]
    },
    {
     "name": "stderr",
     "output_type": "stream",
     "text": [
      "C:\\Users\\bet0x\\AppData\\Local\\Temp\\ipykernel_24592\\4172935257.py:8: DtypeWarning: Columns (3,5,6,8,12,13,14) have mixed types. Specify dtype option on import or set low_memory=False.\n",
      "  egresados = pd.read_csv(\"data/egreso_media/20230313_Notas_y_Egresados_Enseñanza_Media_{0}_PUBL.csv\".format(x), delimiter=\";\")\n"
     ]
    },
    {
     "name": "stdout",
     "output_type": "stream",
     "text": [
      "2021\n",
      "2022\n"
     ]
    }
   ],
   "source": [
    "egresados_media_list = []\n",
    "\n",
    "for x in range(2007, 2023):\n",
    "    print(x)\n",
    "    if x == 2011:\n",
    "       egresados = pd.read_csv(\"data/egreso_media/20230313_Notas_y_Egresados_Enseñanza_Media_{0}_PUBL.csv\".format(x), delimiter=\",\")\n",
    "    else: \n",
    "        egresados = pd.read_csv(\"data/egreso_media/20230313_Notas_y_Egresados_Enseñanza_Media_{0}_PUBL.csv\".format(x), delimiter=\";\")\n",
    "    egresados_media_list.append(egresados)\n",
    "\n",
    "egresados_media = pd.concat(egresados_media_list) "
   ]
  },
  {
   "cell_type": "code",
   "execution_count": 83,
   "id": "84b170f3",
   "metadata": {},
   "outputs": [
    {
     "name": "stdout",
     "output_type": "stream",
     "text": [
      "(967521, 5)\n"
     ]
    },
    {
     "data": {
      "text/plain": [
       "71"
      ]
     },
     "execution_count": 83,
     "metadata": {},
     "output_type": "execute_result"
    }
   ],
   "source": [
    "egresados_media.head()\n",
    "list(enumerate(egresados_media.columns))\n",
    "egresados_media_2 = egresados_media[['AGNO', 'NOM_REG_RBD_A', 'NOM_COM_RBD', 'COD_DEPE2', 'MRUN']]\n",
    "#egresados_media_2.to_csv(\"data/egreso_media/egreso_media_historica.csv\")\n",
    "egresados_media_2.head()\n",
    "print(egresados_media_2[egresados_media_2[\"AGNO\"] == 2007].shape)\n",
    "sum(egresados_media_2[egresados_media_2[\"AGNO\"] == 2007][\"MRUN\"].value_counts() == 2)\n"
   ]
  },
  {
   "cell_type": "code",
   "execution_count": 29,
   "id": "f71f9f03",
   "metadata": {},
   "outputs": [
    {
     "data": {
      "text/plain": [
       "[(0, 'cat_periodo'),\n",
       " (1, 'id'),\n",
       " (2, 'codigo_unico'),\n",
       " (3, 'mrun'),\n",
       " (4, 'gen_alu'),\n",
       " (5, 'fec_nac_alu'),\n",
       " (6, 'rango_edad'),\n",
       " (7, 'anio_ing_carr_ori'),\n",
       " (8, 'sem_ing_carr_ori'),\n",
       " (9, 'anio_ing_carr_act'),\n",
       " (10, 'sem_ing_carr_act'),\n",
       " (11, 'tipo_inst_1'),\n",
       " (12, 'tipo_inst_2'),\n",
       " (13, 'tipo_inst_3'),\n",
       " (14, 'cod_inst'),\n",
       " (15, 'nomb_inst'),\n",
       " (16, 'cod_sede'),\n",
       " (17, 'nomb_sede'),\n",
       " (18, 'cod_carrera'),\n",
       " (19, 'nomb_carrera'),\n",
       " (20, 'modalidad'),\n",
       " (21, 'jornada'),\n",
       " (22, 'version'),\n",
       " (23, 'tipo_plan_carr'),\n",
       " (24, 'dur_estudio_carr'),\n",
       " (25, 'dur_proceso_tit'),\n",
       " (26, 'dur_total_carr'),\n",
       " (27, 'region_sede'),\n",
       " (28, 'provincia_sede'),\n",
       " (29, 'comuna_sede'),\n",
       " (30, 'nivel_global'),\n",
       " (31, 'nivel_carrera_1'),\n",
       " (32, 'nivel_carrera_2'),\n",
       " (33, 'requisito_ingreso'),\n",
       " (34, 'vigencia_carrera'),\n",
       " (35, 'formato_valores'),\n",
       " (36, 'valor_matricula'),\n",
       " (37, 'valor_arancel'),\n",
       " (38, 'codigo_demre'),\n",
       " (39, 'area_conocimiento'),\n",
       " (40, 'cine_f_97_area'),\n",
       " (41, 'cine_f_97_subarea'),\n",
       " (42, 'area_carrera_generica'),\n",
       " (43, 'cine_f_13_area'),\n",
       " (44, 'cine_f_13_subarea'),\n",
       " (45, 'acreditada_carr'),\n",
       " (46, 'acreditada_inst'),\n",
       " (47, 'acre_inst_desde_hasta'),\n",
       " (48, 'acre_inst_anio'),\n",
       " (49, 'costo_proceso_titulacion'),\n",
       " (50, 'costo_obtencion_titulo_diploma'),\n",
       " (51, 'forma_ingreso')]"
      ]
     },
     "execution_count": 29,
     "metadata": {},
     "output_type": "execute_result"
    }
   ],
   "source": [
    "matricula[\"cat_periodo\"]\n",
    "list(enumerate(matricula.columns))"
   ]
  },
  {
   "cell_type": "code",
   "execution_count": 4,
   "id": "7288215c",
   "metadata": {},
   "outputs": [
    {
     "name": "stdout",
     "output_type": "stream",
     "text": [
      "Cargando 2007\n",
      "Cargando 2008\n",
      "Cargando 2009\n",
      "Cargando 2010\n",
      "Cargando 2011\n",
      "Cargando 2012\n",
      "Cargando 2013\n",
      "Cargando 2014\n",
      "Cargando 2015\n",
      "Cargando 2016\n",
      "Cargando 2017\n",
      "Cargando 2018\n",
      "Cargando 2019\n",
      "Cargando 2020\n",
      "Cargando 2021\n",
      "Cargando 2022\n",
      "Cargando 2023\n"
     ]
    }
   ],
   "source": [
    "titulados = None\n",
    "\n",
    "for year in range(2007,2024):\n",
    "    print(\"Cargando {0}\".format(year))\n",
    "    if year == 2007:\n",
    "        titulados = pd.read_csv(\"data/titulados/20240628_Titulados_Ed_Superior_{0}_WEB.csv\".format(year), delimiter=\";\")\n",
    "    else:\n",
    "        temp = pd.read_csv(\"data/titulados/20240628_Titulados_Ed_Superior_{0}_WEB.csv\".format(year), delimiter=\";\")\n",
    "        titulados = pd.concat([titulados, temp])\n"
   ]
  },
  {
   "cell_type": "code",
   "execution_count": null,
   "id": "bdbca9f2",
   "metadata": {},
   "outputs": [],
   "source": [
    "titulados.head()\n",
    "#titulados.to_csv(\"data/titulados.csv\")"
   ]
  },
  {
   "cell_type": "code",
   "execution_count": 7,
   "id": "9609b174",
   "metadata": {},
   "outputs": [
    {
     "name": "stdout",
     "output_type": "stream",
     "text": [
      "Cargando 2008\n",
      "Cargando 2009\n",
      "Cargando 2010\n",
      "Cargando 2011\n",
      "Cargando 2012\n",
      "Cargando 2013\n",
      "Cargando 2014\n",
      "Cargando 2015\n",
      "Cargando 2016\n",
      "Cargando 2017\n",
      "Cargando 2018\n",
      "Cargando 2019\n",
      "Cargando 2020\n",
      "Cargando 2021\n",
      "Cargando 2022\n",
      "Cargando 2023\n",
      "Cargando 2024\n"
     ]
    }
   ],
   "source": [
    "beneficios = None\n",
    "\n",
    "for year in range(2008,2025):\n",
    "    print(\"Cargando {0}\".format(year))\n",
    "    if year == 2007:\n",
    "        beneficios = pd.read_csv(\"data/beneficios/Asignacion {0}_PA_PUBL.csv\".format(year), delimiter=\";\")\n",
    "    else:\n",
    "        temp = pd.read_csv(\"data/beneficios/Asignacion {0}_PA_PUBL.csv\".format(year), delimiter=\";\")\n",
    "        beneficios = pd.concat([beneficios, temp])"
   ]
  },
  {
   "cell_type": "code",
   "execution_count": 9,
   "id": "fa97a7b5",
   "metadata": {},
   "outputs": [],
   "source": [
    "beneficios.head()\n",
    "beneficios.to_csv(\"data/beneficios.csv\")"
   ]
  }
 ],
 "metadata": {
  "kernelspec": {
   "display_name": ".venv",
   "language": "python",
   "name": "python3"
  },
  "language_info": {
   "codemirror_mode": {
    "name": "ipython",
    "version": 3
   },
   "file_extension": ".py",
   "mimetype": "text/x-python",
   "name": "python",
   "nbconvert_exporter": "python",
   "pygments_lexer": "ipython3",
   "version": "3.13.2"
  }
 },
 "nbformat": 4,
 "nbformat_minor": 5
}
