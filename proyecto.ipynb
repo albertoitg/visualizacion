{
 "cells": [
  {
   "cell_type": "code",
   "execution_count": 2,
   "id": "4b3d46b4",
   "metadata": {},
   "outputs": [],
   "source": [
    "import pandas as pd\n",
    "\n"
   ]
  },
  {
   "cell_type": "code",
   "execution_count": 11,
   "id": "a31c6cbb",
   "metadata": {},
   "outputs": [
    {
     "name": "stderr",
     "output_type": "stream",
     "text": [
      "C:\\Users\\bet0x\\AppData\\Local\\Temp\\ipykernel_24476\\528152941.py:3: DtypeWarning: Columns (4) have mixed types. Specify dtype option on import or set low_memory=False.\n",
      "  egreso_media = pd.read_csv(\"data/egreso_media_historica.csv\").drop([\"Unnamed: 0\"], axis=1)\n",
      "C:\\Users\\bet0x\\AppData\\Local\\Temp\\ipykernel_24476\\528152941.py:4: DtypeWarning: Columns (3,6) have mixed types. Specify dtype option on import or set low_memory=False.\n",
      "  beneficios = pd.read_csv(\"data/beneficios.csv\").drop([\"Unnamed: 0\"], axis=1)\n"
     ]
    }
   ],
   "source": [
    "matriculas = pd.read_csv(\"data/matricula_historica.csv\").drop([\"Unnamed: 0\"], axis=1)\n",
    "titulados = pd.read_csv(\"data/titulados.csv\").drop([\"Unnamed: 0\"], axis=1)\n",
    "egreso_media = pd.read_csv(\"data/egreso_media_historica.csv\").drop([\"Unnamed: 0\"], axis=1)\n",
    "beneficios = pd.read_csv(\"data/beneficios.csv\").drop([\"Unnamed: 0\"], axis=1)"
   ]
  },
  {
   "cell_type": "code",
   "execution_count": 12,
   "id": "fe4042cb",
   "metadata": {},
   "outputs": [
    {
     "data": {
      "text/html": [
       "<div>\n",
       "<style scoped>\n",
       "    .dataframe tbody tr th:only-of-type {\n",
       "        vertical-align: middle;\n",
       "    }\n",
       "\n",
       "    .dataframe tbody tr th {\n",
       "        vertical-align: top;\n",
       "    }\n",
       "\n",
       "    .dataframe thead th {\n",
       "        text-align: right;\n",
       "    }\n",
       "</style>\n",
       "<table border=\"1\" class=\"dataframe\">\n",
       "  <thead>\n",
       "    <tr style=\"text-align: right;\">\n",
       "      <th></th>\n",
       "      <th>cat_periodo</th>\n",
       "      <th>mrun</th>\n",
       "      <th>gen_alu</th>\n",
       "      <th>anio_ing_carr_ori</th>\n",
       "      <th>anio_ing_carr_act</th>\n",
       "      <th>tipo_inst_2</th>\n",
       "      <th>nomb_inst</th>\n",
       "      <th>nomb_carrera</th>\n",
       "      <th>dur_total_carr</th>\n",
       "      <th>comuna_sede</th>\n",
       "    </tr>\n",
       "  </thead>\n",
       "  <tbody>\n",
       "    <tr>\n",
       "      <th>0</th>\n",
       "      <td>2007</td>\n",
       "      <td>40.0</td>\n",
       "      <td>2</td>\n",
       "      <td>2007.0</td>\n",
       "      <td>2007.0</td>\n",
       "      <td>Universidades Privadas</td>\n",
       "      <td>UNIVERSIDAD DEL PACIFICO</td>\n",
       "      <td>PERIODISMO</td>\n",
       "      <td>9.0</td>\n",
       "      <td>SANTIAGO</td>\n",
       "    </tr>\n",
       "    <tr>\n",
       "      <th>1</th>\n",
       "      <td>2007</td>\n",
       "      <td>55.0</td>\n",
       "      <td>2</td>\n",
       "      <td>2006.0</td>\n",
       "      <td>2006.0</td>\n",
       "      <td>Institutos Profesionales</td>\n",
       "      <td>IP DUOC UC</td>\n",
       "      <td>ACTUACION</td>\n",
       "      <td>10.0</td>\n",
       "      <td>VIÑA DEL MAR</td>\n",
       "    </tr>\n",
       "    <tr>\n",
       "      <th>2</th>\n",
       "      <td>2007</td>\n",
       "      <td>56.0</td>\n",
       "      <td>1</td>\n",
       "      <td>2007.0</td>\n",
       "      <td>2007.0</td>\n",
       "      <td>Universidades CRUCH</td>\n",
       "      <td>UNIVERSIDAD TECNICA FEDERICO SANTA MARIA</td>\n",
       "      <td>TECNICO UNIVERSITARIO EN ELECTRICIDAD</td>\n",
       "      <td>8.0</td>\n",
       "      <td>VIÑA DEL MAR</td>\n",
       "    </tr>\n",
       "    <tr>\n",
       "      <th>3</th>\n",
       "      <td>2007</td>\n",
       "      <td>132.0</td>\n",
       "      <td>1</td>\n",
       "      <td>2006.0</td>\n",
       "      <td>2006.0</td>\n",
       "      <td>Institutos Profesionales</td>\n",
       "      <td>IP AIEP</td>\n",
       "      <td>TECNICO DEPORTIVO</td>\n",
       "      <td>5.0</td>\n",
       "      <td>RANCAGUA</td>\n",
       "    </tr>\n",
       "    <tr>\n",
       "      <th>4</th>\n",
       "      <td>2007</td>\n",
       "      <td>133.0</td>\n",
       "      <td>1</td>\n",
       "      <td>2007.0</td>\n",
       "      <td>2007.0</td>\n",
       "      <td>Institutos Profesionales</td>\n",
       "      <td>IP AIEP</td>\n",
       "      <td>TECNICO EN CONSTRUCCION</td>\n",
       "      <td>5.0</td>\n",
       "      <td>RANCAGUA</td>\n",
       "    </tr>\n",
       "  </tbody>\n",
       "</table>\n",
       "</div>"
      ],
      "text/plain": [
       "   cat_periodo   mrun  gen_alu  anio_ing_carr_ori  anio_ing_carr_act  \\\n",
       "0         2007   40.0        2             2007.0             2007.0   \n",
       "1         2007   55.0        2             2006.0             2006.0   \n",
       "2         2007   56.0        1             2007.0             2007.0   \n",
       "3         2007  132.0        1             2006.0             2006.0   \n",
       "4         2007  133.0        1             2007.0             2007.0   \n",
       "\n",
       "                tipo_inst_2                                 nomb_inst  \\\n",
       "0    Universidades Privadas                  UNIVERSIDAD DEL PACIFICO   \n",
       "1  Institutos Profesionales                                IP DUOC UC   \n",
       "2       Universidades CRUCH  UNIVERSIDAD TECNICA FEDERICO SANTA MARIA   \n",
       "3  Institutos Profesionales                                   IP AIEP   \n",
       "4  Institutos Profesionales                                   IP AIEP   \n",
       "\n",
       "                            nomb_carrera  dur_total_carr   comuna_sede  \n",
       "0                             PERIODISMO             9.0      SANTIAGO  \n",
       "1                              ACTUACION            10.0  VIÑA DEL MAR  \n",
       "2  TECNICO UNIVERSITARIO EN ELECTRICIDAD             8.0  VIÑA DEL MAR  \n",
       "3                      TECNICO DEPORTIVO             5.0      RANCAGUA  \n",
       "4                TECNICO EN CONSTRUCCION             5.0      RANCAGUA  "
      ]
     },
     "execution_count": 12,
     "metadata": {},
     "output_type": "execute_result"
    }
   ],
   "source": [
    "matriculas.head()\n",
    "#titulados.head()\n",
    "#egreso_media.head()\n",
    "#beneficios.head()"
   ]
  }
 ],
 "metadata": {
  "kernelspec": {
   "display_name": ".venv",
   "language": "python",
   "name": "python3"
  },
  "language_info": {
   "codemirror_mode": {
    "name": "ipython",
    "version": 3
   },
   "file_extension": ".py",
   "mimetype": "text/x-python",
   "name": "python",
   "nbconvert_exporter": "python",
   "pygments_lexer": "ipython3",
   "version": "3.13.2"
  }
 },
 "nbformat": 4,
 "nbformat_minor": 5
}
