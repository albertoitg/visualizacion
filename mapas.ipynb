{
 "cells": [
  {
   "cell_type": "code",
   "execution_count": null,
   "id": "82f51672",
   "metadata": {},
   "outputs": [],
   "source": [
    "import unicodedata\n",
    "import pandas as pd\n",
    "import xml.etree.ElementTree as et\n",
    "import matplotlib.pyplot as plt\n",
    "import matplotlib.colors as mcolors\n",
    "import numpy as np\n",
    "from matplotlib.colors import BoundaryNorm\n",
    "from mapclassify import FisherJenks\n",
    "\n",
    "def normalizar_sin_tildes(texto):\n",
    "    \"\"\"\n",
    "    Convierte un texto a mayúsculas, eliminando tildes,\n",
    "    pero manteniendo caracteres especiales como ñ, Ñ, ü, Ü, ç, etc.\n",
    "    \"\"\"\n",
    "    # Normaliza en forma NFD (separa letras y tildes)\n",
    "    texto_normalizado = unicodedata.normalize('NFD', texto)\n",
    "    \n",
    "    # Filtra las marcas diacríticas (tildes), pero conserva la virgulilla (~) de la ñ y la diéresis (¨) de la ü\n",
    "    texto_sin_tildes = ''.join(\n",
    "        c for c in texto_normalizado \n",
    "        if unicodedata.category(c) != 'Mn' or c in ['\\u0303', '\\u0308']  # ~ y ¨\n",
    "    )\n",
    "    \n",
    "    # Vuelve a normalizar en NFC y convierte a mayúsculas\n",
    "    return unicodedata.normalize('NFC', texto_sin_tildes).upper()\n",
    "\n",
    "tipo_colegio = \"Municipal\"\n",
    "\n",
    "data = pd.read_csv(\"grouped_data (1).csv\")\n",
    "data = data[data[\"COD_DEPE2_desc\"] == tipo_colegio]"
   ]
  },
  {
   "cell_type": "code",
   "execution_count": 56,
   "id": "fbb2f6f5",
   "metadata": {},
   "outputs": [
    {
     "name": "stdout",
     "output_type": "stream",
     "text": [
      "0.125 1.0\n"
     ]
    }
   ],
   "source": [
    "print(data[\"desertion_rate\"].min(),data[\"desertion_rate\"].max())"
   ]
  },
  {
   "cell_type": "code",
   "execution_count": 57,
   "id": "016b41d7",
   "metadata": {},
   "outputs": [
    {
     "name": "stderr",
     "output_type": "stream",
     "text": [
      "c:\\Users\\bet0x\\visualizacion\\.venv\\Lib\\site-packages\\IPython\\core\\interactiveshell.py:3670: UserWarning: Numba not installed. Using slow pure python version.\n",
      "  exec(code_obj, self.user_global_ns, self.user_ns)\n"
     ]
    }
   ],
   "source": [
    "# 2. Calcular límites de cuartiles (0%, 25%, 50%, 75%, 100%)\n",
    "quantile_bounds = np.percentile(data['desertion_rate'], [0, 20, 40, 60, 80, 100])\n",
    "\n",
    "# 4. Definir colormap y normalizador uniforme y por cuantiles\n",
    "colormap = plt.cm.OrRd\n",
    "\n",
    "norm = plt.Normalize(vmin=0.125, vmax=0.9)\n",
    "data['color_hex'] = data['desertion_rate'].apply(lambda x: mcolors.to_hex(colormap(norm(x))))\n",
    "\n",
    "norm = BoundaryNorm(quantile_bounds, ncolors=colormap.N)\n",
    "data['color_hex_quantiles'] = data['desertion_rate'].apply(\n",
    "    lambda x: mcolors.to_hex(colormap(norm(x)))\n",
    ")\n",
    "\n",
    "# Clasificación Fisher-Jenks\n",
    "fisher_jenks = FisherJenks(data['desertion_rate'], k=7)\n",
    "norm = BoundaryNorm(fisher_jenks.bins, ncolors=colormap.N)\n",
    "\n",
    "# Asignar color\n",
    "data['color_hex_fisher'] = data['desertion_rate'].apply(\n",
    "    lambda x: mcolors.to_hex(colormap(norm(x)))\n",
    ")\n",
    "\n",
    "tree = et.parse(\"Comunas_de_Santiago.svg\")\n",
    "root = tree.getroot()\n",
    "\n",
    "modelo = [\"color_hex\", \"color_hex_quantiles\", \"color_hex_fisher\"]\n",
    "modelo_seleccionado = 1\n",
    "\n",
    "ns = {'svg': 'http://www.w3.org/2000/svg'}\n",
    "\n",
    "for elem in root.findall('.//svg:path', ns):\n",
    "\n",
    "    style = elem.get('style')\n",
    "    id = elem.get(\"id\")\n",
    "    if id is None:\n",
    "        continue\n",
    "\n",
    "    id_df = normalizar_sin_tildes(id)\n",
    "\n",
    "    try:\n",
    "        color = data.loc[data[\"comuna\"] == id_df, modelo[modelo_seleccionado - 1]].values[0]\n",
    "    except Exception:\n",
    "        color = \"url(#hatch)\"\n",
    "\n",
    "    elem.set(\"style\",f\"fill:{color};fill-opacity:1;fill-rule:evenodd;stroke:black;stroke-width:0.2;stroke-linecap:butt;stroke-linejoin:miter;stroke-miterlimit:4;stroke-dasharray:none;stroke-opacity:1\")\n",
    "\n",
    "tree.write(f\"mapa_heatmap_{tipo_colegio}_{modelo[modelo_seleccionado - 1]}.svg\")"
   ]
  }
 ],
 "metadata": {
  "kernelspec": {
   "display_name": ".venv",
   "language": "python",
   "name": "python3"
  },
  "language_info": {
   "codemirror_mode": {
    "name": "ipython",
    "version": 3
   },
   "file_extension": ".py",
   "mimetype": "text/x-python",
   "name": "python",
   "nbconvert_exporter": "python",
   "pygments_lexer": "ipython3",
   "version": "3.13.2"
  }
 },
 "nbformat": 4,
 "nbformat_minor": 5
}
